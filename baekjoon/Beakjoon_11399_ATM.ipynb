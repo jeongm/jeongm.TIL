{
 "cells": [
  {
   "cell_type": "markdown",
   "metadata": {},
   "source": [
    "## [백준] 11399번 ATM"
   ]
  },
  {
   "cell_type": "code",
   "execution_count": 16,
   "metadata": {},
   "outputs": [
    {
     "name": "stdout",
     "output_type": "stream",
     "text": [
      "5\n"
     ]
    }
   ],
   "source": [
    "N = int(input())"
   ]
  },
  {
   "cell_type": "code",
   "execution_count": 17,
   "metadata": {},
   "outputs": [
    {
     "name": "stdout",
     "output_type": "stream",
     "text": [
      "3 1 4 3 2\n"
     ]
    }
   ],
   "source": [
    "p = list(map(int,input().split()))"
   ]
  },
  {
   "cell_type": "code",
   "execution_count": 19,
   "metadata": {},
   "outputs": [
    {
     "name": "stdout",
     "output_type": "stream",
     "text": [
      "32\n"
     ]
    }
   ],
   "source": [
    "p.sort()\n",
    "\n",
    "pi_list=[]\n",
    "pi=0 # 각 사람이 돈을 인출하는데 걸리는 시간\n",
    "pre_p=0;# 이전 사람이 돈을 인출하는데 걸리는 시간\n",
    "\n",
    "for a in p:\n",
    "    pi = a + pre_p\n",
    "    \n",
    "    pre_p=pi\n",
    "    pi_list.append(pi)\n",
    "\n",
    "mini_p=0 # 각 사람이 돈을 인출하는데 필요한 시간의 합의 최솟값\n",
    "for a in pi_list:\n",
    "    mini_p += a\n",
    "print(mini_p)"
   ]
  }
 ],
 "metadata": {
  "kernelspec": {
   "display_name": "Python 3",
   "language": "python",
   "name": "python3"
  },
  "language_info": {
   "codemirror_mode": {
    "name": "ipython",
    "version": 3
   },
   "file_extension": ".py",
   "mimetype": "text/x-python",
   "name": "python",
   "nbconvert_exporter": "python",
   "pygments_lexer": "ipython3",
   "version": "3.8.3"
  }
 },
 "nbformat": 4,
 "nbformat_minor": 4
}
