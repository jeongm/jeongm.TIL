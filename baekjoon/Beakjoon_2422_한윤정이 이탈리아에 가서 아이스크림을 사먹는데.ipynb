{
 "cells": [
  {
   "cell_type": "markdown",
   "metadata": {},
   "source": [
    "## [백준] 2422번 한윤정이 이탈리아에 가서 아이스크림을 사먹는데"
   ]
  },
  {
   "cell_type": "code",
   "execution_count": 5,
   "metadata": {},
   "outputs": [
    {
     "name": "stdout",
     "output_type": "stream",
     "text": [
      "5 3\n"
     ]
    }
   ],
   "source": [
    "N,M= map(int, input().split())"
   ]
  },
  {
   "cell_type": "code",
   "execution_count": 11,
   "metadata": {},
   "outputs": [
    {
     "name": "stdout",
     "output_type": "stream",
     "text": [
      "1 2\n",
      "3 4\n",
      "1 3\n"
     ]
    }
   ],
   "source": [
    "no_com=[list(map(int, input().split())) for i in range(M)] # 맛없는 조합"
   ]
  },
  {
   "cell_type": "code",
   "execution_count": 89,
   "metadata": {},
   "outputs": [
    {
     "name": "stdout",
     "output_type": "stream",
     "text": [
      "[[2, 3], [1], [4, 1], [3], []]\n"
     ]
    }
   ],
   "source": [
    "hate_com=[[] for i in range(N)] # 각 번호가 싫어하는 조합\n",
    "for i in range(M):\n",
    "    hate_com[no_com[i][0]-1].append(no_com[i][1])\n",
    "    hate_com[no_com[i][1]-1].append(no_com[i][0])\n",
    "        \n",
    "print(hate_com)"
   ]
  },
  {
   "cell_type": "code",
   "execution_count": 104,
   "metadata": {},
   "outputs": [
    {
     "name": "stdout",
     "output_type": "stream",
     "text": [
      "3\n",
      "[[1, 4, 5], [2, 3, 5], [2, 4, 5]]\n"
     ]
    }
   ],
   "source": [
    "com=[]\n",
    "com_len=0\n",
    "for i in range(N-2):\n",
    "    for j in range(i+1,N):\n",
    "        for r in range(j+1,N):\n",
    "            com.append([])\n",
    "            com[com_len].append(i+1)\n",
    "            if j+1 in com[com_len]or j+1 in hate_com[i]:\n",
    "                del com[com_len]\n",
    "                continue\n",
    "            else: \n",
    "                com[com_len].append(j+1)\n",
    "            if r+1 in com[com_len]or r+1 in hate_com[i] or r+1 in hate_com[j]:\n",
    "                del com[com_len]\n",
    "                continue\n",
    "            else:\n",
    "                com[com_len].append(r+1)\n",
    "                com_len+=1\n",
    "            \n",
    "print(com_len)    \n",
    "print(com)"
   ]
  },
  {
   "cell_type": "code",
   "execution_count": null,
   "metadata": {},
   "outputs": [],
   "source": []
  }
 ],
 "metadata": {
  "kernelspec": {
   "display_name": "Python 3",
   "language": "python",
   "name": "python3"
  },
  "language_info": {
   "codemirror_mode": {
    "name": "ipython",
    "version": 3
   },
   "file_extension": ".py",
   "mimetype": "text/x-python",
   "name": "python",
   "nbconvert_exporter": "python",
   "pygments_lexer": "ipython3",
   "version": "3.8.3"
  }
 },
 "nbformat": 4,
 "nbformat_minor": 4
}
