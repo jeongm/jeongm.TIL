{
 "cells": [
  {
   "cell_type": "markdown",
   "metadata": {},
   "source": [
    "## [백준] 1541번 잃어버린 괄호"
   ]
  },
  {
   "cell_type": "code",
   "execution_count": 97,
   "metadata": {
    "scrolled": true
   },
   "outputs": [
    {
     "name": "stdout",
     "output_type": "stream",
     "text": [
      "55-50+40\n"
     ]
    }
   ],
   "source": [
    "exp=input() # 식 입력"
   ]
  },
  {
   "cell_type": "code",
   "execution_count": 98,
   "metadata": {},
   "outputs": [
    {
     "name": "stdout",
     "output_type": "stream",
     "text": [
      "[55, '-', 50, '+', 40]\n"
     ]
    }
   ],
   "source": [
    "# 입력받은 식 변환\n",
    "exp_int = [] # 문자형으로된 연속된 숫자를 정수형으로 바꿈\n",
    "\n",
    "cnt = 0 # 숫자를 정수로 바꾸기 위해\n",
    "for i in range(len(exp)):\n",
    "    if i == len(exp)-1:\n",
    "        exp_int.append(int(exp[i-cnt:i+1]))\n",
    "    elif exp[i] != '-' and exp[i] != '+' and exp[i] != '(' and exp[i] != ')': # 숫자면 카운트 증가\n",
    "        cnt+=1\n",
    "        continue\n",
    "    else : # 숫자가 아니면\n",
    "        exp_int.append(int(exp[i-cnt:i]))\n",
    "        exp_int.append(exp[i])\n",
    "        cnt = 0\n",
    "        "
   ]
  },
  {
   "cell_type": "code",
   "execution_count": 99,
   "metadata": {},
   "outputs": [
    {
     "name": "stdout",
     "output_type": "stream",
     "text": [
      "-35\n"
     ]
    }
   ],
   "source": [
    "flag = 1\n",
    "\n",
    "while (flag < len(exp_int)): # +부분 제거\n",
    "    if exp_int[flag] == '+':\n",
    "        exp_int[flag-1] += exp_int[flag + 1]\n",
    "        del exp_int[flag:flag+2]\n",
    "    else :\n",
    "        flag+=2\n",
    "\n",
    "sum = exp_int[0] # 계산\n",
    "for i in range(2,len(exp_int),2):\n",
    "    sum-=exp_int[i]\n",
    "print(sum)"
   ]
  },
  {
   "cell_type": "code",
   "execution_count": null,
   "metadata": {},
   "outputs": [],
   "source": []
  },
  {
   "cell_type": "code",
   "execution_count": null,
   "metadata": {},
   "outputs": [],
   "source": []
  }
 ],
 "metadata": {
  "kernelspec": {
   "display_name": "Python 3",
   "language": "python",
   "name": "python3"
  },
  "language_info": {
   "codemirror_mode": {
    "name": "ipython",
    "version": 3
   },
   "file_extension": ".py",
   "mimetype": "text/x-python",
   "name": "python",
   "nbconvert_exporter": "python",
   "pygments_lexer": "ipython3",
   "version": "3.8.3"
  }
 },
 "nbformat": 4,
 "nbformat_minor": 4
}
