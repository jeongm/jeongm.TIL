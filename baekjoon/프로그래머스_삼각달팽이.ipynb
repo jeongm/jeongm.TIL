{
 "cells": [
  {
   "cell_type": "markdown",
   "metadata": {},
   "source": [
    "## 프로그래머스 _월간 코드 챌린지 시즌1 _삼각달팽이\n"
   ]
  },
  {
   "cell_type": "markdown",
   "metadata": {},
   "source": [
    "정수 n이 매개변수로 주어집니다. 다음 그림과 같이 밑변의 길이와 높이가 n인 삼각형에서 맨 위 꼭짓점부터 반시계 방향으로 달팽이 채우기를 진행한 후, 첫 행부터 마지막 행까지 모두 순서대로 합친 새로운 배열을 return 하도록 solution 함수를 완성해주세요."
   ]
  },
  {
   "cell_type": "code",
   "execution_count": 5,
   "metadata": {},
   "outputs": [],
   "source": [
    "def solution(n):\n",
    "    answer = []\n",
    "    \n",
    "    return answer"
   ]
  },
  {
   "cell_type": "code",
   "execution_count": 53,
   "metadata": {},
   "outputs": [
    {
     "name": "stdout",
     "output_type": "stream",
     "text": [
      "5\n"
     ]
    }
   ],
   "source": [
    "n = int(input())"
   ]
  },
  {
   "cell_type": "code",
   "execution_count": 57,
   "metadata": {},
   "outputs": [],
   "source": [
    "array = [[0 for i in range(0, j+1)] for j in range(n)] # 직각이등변삼격형민들기"
   ]
  },
  {
   "cell_type": "code",
   "execution_count": 59,
   "metadata": {},
   "outputs": [
    {
     "name": "stdout",
     "output_type": "stream",
     "text": [
      "[1, 2, 12, 3, 13, 11, 4, 14, 15, 10, 5, 6, 7, 8, 9]\n"
     ]
    }
   ],
   "source": [
    "answer=[]\n",
    "\n",
    "p_row=-1 #행 0,0부터 들어가야 하니까\n",
    "p_col=0 #열\n",
    "\n",
    "cnt = 1 # 1부터 넣을거니까\n",
    "for i in range(n):\n",
    "    for j in range(n-i):# 아래, 오른쪽, 대각선 세 방향 싸이클\n",
    "        if i%3 == 0:\n",
    "            p_row += 1\n",
    "        elif i%3 == 1:\n",
    "            p_col += 1\n",
    "        elif i%3 == 2:\n",
    "            p_row -= 1\n",
    "            p_col -= 1\n",
    "        array[p_row][p_col] = cnt\n",
    "        cnt+=1\n",
    "        \n",
    "for i in range(n):\n",
    "    answer+=array[i]\n",
    "print(answer)"
   ]
  },
  {
   "cell_type": "code",
   "execution_count": 60,
   "metadata": {},
   "outputs": [],
   "source": [
    "def solution(n):\n",
    "    answer = []\n",
    "    \n",
    "    array = [[0 for i in range(0, j+1)] for j in range(n)] # 직각이등변삼격형민들기\n",
    "    \n",
    "    p_row=-1 #행 0,0부터 들어가야 하니까\n",
    "    p_col=0 #열\n",
    "\n",
    "    cnt = 1 # 1부터 넣을거니까\n",
    "    for i in range(n):\n",
    "        for j in range(n-i):# 아래, 오른쪽, 대각선 세 방향 싸이클\n",
    "            if i%3 == 0:\n",
    "                p_row += 1\n",
    "            elif i%3 == 1:\n",
    "                p_col += 1\n",
    "            elif i%3 == 2:\n",
    "                p_row -= 1\n",
    "                p_col -= 1\n",
    "            array[p_row][p_col] = cnt\n",
    "            cnt+=1\n",
    "        \n",
    "    for i in range(n):#일차원리스트로변환\n",
    "        answer+=array[i]\n",
    "    return answer"
   ]
  }
 ],
 "metadata": {
  "kernelspec": {
   "display_name": "Python 3",
   "language": "python",
   "name": "python3"
  },
  "language_info": {
   "codemirror_mode": {
    "name": "ipython",
    "version": 3
   },
   "file_extension": ".py",
   "mimetype": "text/x-python",
   "name": "python",
   "nbconvert_exporter": "python",
   "pygments_lexer": "ipython3",
   "version": "3.8.3"
  }
 },
 "nbformat": 4,
 "nbformat_minor": 2
}
