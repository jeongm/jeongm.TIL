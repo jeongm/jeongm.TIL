{
 "cells": [
  {
   "cell_type": "markdown",
   "metadata": {},
   "source": [
    "문제  \n",
    "민식이는 다음과 같은 폴리오미노 2개를 무한개만큼 가지고 있다. AAAA와 BB\n",
    "이제 '.'와 'X'로 이루어진 보드판이 주어졌을 때, 민식이는 겹침없이 'X'를 모두 폴리오미노로 덮으려고 한다. 이때, '.'는 폴리오미노로 덮으면 안 된다.\n",
    "폴리오미노로 모두 덮은 보드판을 출력하는 프로그램을 작성하시오.\n",
    "\n",
    "입력  \n",
    "첫째 줄에 보드판이 주어진다. 보드판의 크기는 최대 500이다.\n",
    "\n",
    "출력  \n",
    "첫째 줄에 사전순으로 가장 앞서는 답을 출력한다. 만약 덮을 수 없으면 -1을 출력한다."
   ]
  },
  {
   "cell_type": "code",
   "execution_count": 167,
   "metadata": {},
   "outputs": [
    {
     "name": "stdout",
     "output_type": "stream",
     "text": [
      "XXXX.XXXX.XXXXXX.\n"
     ]
    }
   ],
   "source": [
    "n = input()"
   ]
  },
  {
   "cell_type": "code",
   "execution_count": 168,
   "metadata": {},
   "outputs": [
    {
     "name": "stdout",
     "output_type": "stream",
     "text": [
      "AAAA.AAAA.AAAABB.\n"
     ]
    }
   ],
   "source": [
    "n = list(n)\n",
    "max_dot=len(n)\n",
    "cnt_dot=0\n",
    "ox = 1 # 되는 경우 1(기본 설정), 안되는 경우 0 \n",
    "cnt = 0\n",
    "\n",
    "\n",
    "for i in range(len(n)):\n",
    "    if n[i] == '.':\n",
    "        cnt_dot+=1\n",
    "    if n[i] == 'X' : # X일 경우 카운트 증가\n",
    "        cnt+=1\n",
    "        if cnt == 4 : # X 4개가 연속적이면 무조건 \n",
    "            for j in range(4) :\n",
    "                n[i-j] = 'A'\n",
    "            cnt = 0 # cnt 초기화\n",
    "            continue\n",
    "    if n[i] != 'X' :\n",
    "        if cnt == 2 :\n",
    "            for j in range(2) :\n",
    "                n[i-j-1] = 'B'\n",
    "            cnt = 0 # cnt 초기화\n",
    "            continue\n",
    "        elif cnt == 1 or cnt == 3 :\n",
    "            ox = 0\n",
    "            break;\n",
    "    elif (i+1) == len(n):\n",
    "        if cnt_dot == max_dot:\n",
    "            break;\n",
    "        if cnt == 2 :\n",
    "            for j in range(2) :\n",
    "                n[i-j] = 'B'\n",
    "            cnt = 0 # cnt 초기화\n",
    "            continue\n",
    "        elif cnt == 1 or cnt == 3 :\n",
    "            ox = 0\n",
    "            break;\n",
    "                 \n",
    "            \n",
    "if ox == 0 :\n",
    "    print(-1)\n",
    "else :\n",
    "    print(''.join(n))"
   ]
  },
  {
   "cell_type": "markdown",
   "metadata": {},
   "source": []
  }
 ],
 "metadata": {
  "kernelspec": {
   "display_name": "Python 3",
   "language": "python",
   "name": "python3"
  },
  "language_info": {
   "codemirror_mode": {
    "name": "ipython",
    "version": 3
   },
   "file_extension": ".py",
   "mimetype": "text/x-python",
   "name": "python",
   "nbconvert_exporter": "python",
   "pygments_lexer": "ipython3",
   "version": "3.6.5"
  }
 },
 "nbformat": 4,
 "nbformat_minor": 2
}
