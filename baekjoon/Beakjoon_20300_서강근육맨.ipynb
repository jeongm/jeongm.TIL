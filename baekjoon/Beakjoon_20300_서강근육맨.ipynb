{
 "cells": [
  {
   "cell_type": "markdown",
   "metadata": {},
   "source": [
    "## [백준]20300번 서강근육맨"
   ]
  },
  {
   "cell_type": "code",
   "execution_count": 28,
   "metadata": {},
   "outputs": [
    {
     "name": "stdout",
     "output_type": "stream",
     "text": [
      "5\n"
     ]
    }
   ],
   "source": [
    "N = int(input())"
   ]
  },
  {
   "cell_type": "code",
   "execution_count": 29,
   "metadata": {
    "scrolled": false
   },
   "outputs": [
    {
     "name": "stdout",
     "output_type": "stream",
     "text": [
      "1 2 3 4 5\n"
     ]
    }
   ],
   "source": [
    "t = list(map(int,input().split()))"
   ]
  },
  {
   "cell_type": "code",
   "execution_count": 30,
   "metadata": {},
   "outputs": [
    {
     "name": "stdout",
     "output_type": "stream",
     "text": [
      "5\n"
     ]
    }
   ],
   "source": [
    "M = 0 # 근손실 정도\n",
    "t.sort() # 편하게 하기 위해 sort\n",
    "\n",
    "if N%2 == 1: # 기구가 홀수이므로 마지막에는 운동기구 하나만 사용\n",
    "    M = t[N-1]\n",
    "    for i in range(1,N//2-1):\n",
    "        if t[i]+t[N-i-2] > M:\n",
    "            M = t[i]+t[N-i-2]\n",
    "else:\n",
    "    M = t[0]+t[N-1]\n",
    "    for i in range(1,N//2):\n",
    "        if t[i]+t[N-i-1] > M:\n",
    "            M = t[i]+t[N-i-1]\n",
    "    \n",
    "print(M)"
   ]
  }
 ],
 "metadata": {
  "kernelspec": {
   "display_name": "Python 3",
   "language": "python",
   "name": "python3"
  },
  "language_info": {
   "codemirror_mode": {
    "name": "ipython",
    "version": 3
   },
   "file_extension": ".py",
   "mimetype": "text/x-python",
   "name": "python",
   "nbconvert_exporter": "python",
   "pygments_lexer": "ipython3",
   "version": "3.8.3"
  }
 },
 "nbformat": 4,
 "nbformat_minor": 4
}
