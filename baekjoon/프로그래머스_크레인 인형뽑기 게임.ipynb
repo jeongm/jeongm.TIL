{
 "cells": [
  {
   "cell_type": "markdown",
   "metadata": {},
   "source": [
    "## 프로그래머스 _2019 카카오 개발자 겨울 인턴십 _크레인 인형뽑기 게임\n"
   ]
  },
  {
   "cell_type": "code",
   "execution_count": 1,
   "metadata": {
    "scrolled": false
   },
   "outputs": [],
   "source": [
    "board = [[0,0,0,0,0],\n",
    "         [0,0,1,0,3],\n",
    "         [0,2,5,0,1],\n",
    "         [4,2,4,4,2],\n",
    "         [3,5,1,3,1]]\n",
    "moves = [1,5,3,5,1,2,1,4]"
   ]
  },
  {
   "cell_type": "code",
   "execution_count": 2,
   "metadata": {},
   "outputs": [
    {
     "name": "stdout",
     "output_type": "stream",
     "text": [
      "4\n"
     ]
    }
   ],
   "source": [
    "pocket=[]\n",
    "answer=0\n",
    "for select in moves:\n",
    "    for j in range(len(board)):\n",
    "        if board[j][select-1] == 0: # 인형없음!\n",
    "            continue\n",
    "        if board[j][select-1] != 0: # 인형있음!\n",
    "            if len(pocket) !=0 and pocket[len(pocket)-1] == board[j][select-1]:\n",
    "                pocket.pop()\n",
    "                answer+=2\n",
    "            else :\n",
    "                pocket.append(board[j][select-1])\n",
    "            board[j][select-1] = 0\n",
    "            break\n",
    "\n",
    "print(answer)"
   ]
  }
 ],
 "metadata": {
  "kernelspec": {
   "display_name": "Python 3",
   "language": "python",
   "name": "python3"
  },
  "language_info": {
   "codemirror_mode": {
    "name": "ipython",
    "version": 3
   },
   "file_extension": ".py",
   "mimetype": "text/x-python",
   "name": "python",
   "nbconvert_exporter": "python",
   "pygments_lexer": "ipython3",
   "version": "3.6.5"
  }
 },
 "nbformat": 4,
 "nbformat_minor": 2
}
